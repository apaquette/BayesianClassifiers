{
 "cells": [
  {
   "cell_type": "markdown",
   "id": "ab3eef88",
   "metadata": {},
   "source": [
    "<a class=\"anchor\" id=\"0.1\"></a>\n",
    "# **Table of Contents**\n",
    "1. [Introduction](#1)\n",
    "2. [Business Understanding](#2)\n",
    "3. [Data Understanding](#3)\n",
    "4. [Data Preperation](#4)\n",
    "5. [Modeling](#5)\n",
    "6. [Evaluation](#6)\n",
    "7. [Improvements](#7)\n",
    "8. [Conclusion](#8)"
   ]
  },
  {
   "cell_type": "markdown",
   "id": "53e48094",
   "metadata": {},
   "source": [
    "# **1. Introduction** <a class=\"anchor\" id=\"1\"></a>\n",
    "[Table of Contents](#0.1)\n",
    "\n",
    "This notebook will explore Feedforward Neural Networks by going through the CRISP-DM process. The goal is to gain insight into how to use CNN in Python.\n",
    "\n",
    "### Convolutional Neural Networks\n",
    "\n",
    "Convolutional Neural Networks (CNN) are designed to process grid-like data, such as images.  CNNs have been very influential in the field of computer vision and are widely used in visual applications including image classification, object detection, image segmentation, and more.\n",
    "\n",
    "**1. Convolutional Layer**\n",
    "\n",
    "The key operation of CNNs is the convolution operation. Convolutional layers consist of filters that slide accross the input data and perform element-wise multiplication with the local region of the input data.\n",
    "\n",
    "**2. Pooling Layers**\n",
    "\n",
    "After convolution, pooling layers are used to reduce the spatial dimensions of the feature maps produced by convolution. This helps reduce the computational complexity of the network, and makes the learned features more robust to variation in the input.\n",
    "\n",
    "**3. Activation Function**\n",
    "\n",
    "After pooling layers, an activation function such as ReLU is applied to introduce non-linearity into the network, allowing it to learn complex patterns and relationships.\n",
    "\n",
    "**4. Fully Connected Layers**\n",
    "\n",
    "These layers take high-level filtered features from the convolutional layers and associates them with specific classes in the dataset through training.\n",
    "\n",
    "**5. Softmax Layer**\n",
    "\n",
    "The output of the last fully connected layer is usually passed through a softmax function, which converts the raw scores into probabilities. This allows for the output of a probability distribution over different classes in the classification task.\n",
    "\n",
    "**6. Training**\n",
    "\n",
    "CNNs are trained using labeled data and a loss function, such as cross-entropy. Training is typically done using optimization algorithms which adjust the parameters of the network to minimize the loss function.\n",
    "\n",
    "**7. Backpropagation**\n",
    "\n",
    "During training, the gradients of the loss function are computed using backpropagation. These gradients are used to update parameters in a way to minimize the loss function."
   ]
  },
  {
   "cell_type": "code",
   "execution_count": null,
   "id": "f516e480",
   "metadata": {},
   "outputs": [],
   "source": []
  }
 ],
 "metadata": {
  "kernelspec": {
   "display_name": "Python 3 (ipykernel)",
   "language": "python",
   "name": "python3"
  },
  "language_info": {
   "codemirror_mode": {
    "name": "ipython",
    "version": 3
   },
   "file_extension": ".py",
   "mimetype": "text/x-python",
   "name": "python",
   "nbconvert_exporter": "python",
   "pygments_lexer": "ipython3",
   "version": "3.9.13"
  }
 },
 "nbformat": 4,
 "nbformat_minor": 5
}
